{
 "cells": [
  {
   "cell_type": "markdown",
   "id": "e9f2f398",
   "metadata": {},
   "source": [
    "#Question: Given a nested list, flat the list into the list only contains the values instead of lists.\n",
    "For example: Input: a = [1, 2, [[3, 4], 5, 6], 7] \n",
    "             Output: [1, 2, 3, 4, 5, 6, 7]"
   ]
  },
  {
   "cell_type": "code",
   "execution_count": 1,
   "id": "a4c311a9",
   "metadata": {},
   "outputs": [
    {
     "data": {
      "text/plain": [
       "[1, 2, 3, 4, 5, 6, 7]"
      ]
     },
     "execution_count": 1,
     "metadata": {},
     "output_type": "execute_result"
    }
   ],
   "source": [
    "# Method1: Recursive\n",
    "a = [1, 2, [[3, 4], 5, 6], 7]\n",
    "r = []\n",
    "def flat(a):\n",
    "    for e in a:\n",
    "        if type(e) == list:\n",
    "            flat(e)\n",
    "        else:\n",
    "            r.append(e)\n",
    "    return r\n",
    "flat(a)"
   ]
  },
  {
   "cell_type": "code",
   "execution_count": 2,
   "id": "400dbbb7",
   "metadata": {},
   "outputs": [
    {
     "data": {
      "text/plain": [
       "[1, 2, 3, 4, 5, 6, 7]"
      ]
     },
     "execution_count": 2,
     "metadata": {},
     "output_type": "execute_result"
    }
   ],
   "source": [
    "# Method2: Iterative\n",
    "def flat(a):\n",
    "    def flat1(b):\n",
    "        r = []\n",
    "        for e in b:\n",
    "            if type(e) == list:\n",
    "                r += e\n",
    "            else:\n",
    "                r.append(e)\n",
    "        return r\n",
    "    p = False\n",
    "    while p == False:\n",
    "        for i in range(len(a)):\n",
    "            if type(a[i]) == list:\n",
    "                a = flat1(a)\n",
    "                break\n",
    "            elif i == len(a)-1:\n",
    "                p = True\n",
    "    return a\n",
    "flat([1, 2, [[3, 4], 5, 6], 7])"
   ]
  }
 ],
 "metadata": {
  "kernelspec": {
   "display_name": "Python 3",
   "language": "python",
   "name": "python3"
  },
  "language_info": {
   "codemirror_mode": {
    "name": "ipython",
    "version": 3
   },
   "file_extension": ".py",
   "mimetype": "text/x-python",
   "name": "python",
   "nbconvert_exporter": "python",
   "pygments_lexer": "ipython3",
   "version": "3.8.8"
  }
 },
 "nbformat": 4,
 "nbformat_minor": 5
}
