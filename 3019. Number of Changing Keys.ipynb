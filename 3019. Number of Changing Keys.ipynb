{
 "cells": [
  {
   "cell_type": "code",
   "execution_count": null,
   "id": "70850513",
   "metadata": {},
   "outputs": [],
   "source": [
    "def countKeyChanges(self, s: str) -> int:\n",
    "    if len(s) == 1:\n",
    "        return 0\n",
    "    s1 = s.lower()\n",
    "    c = 0\n",
    "    for i in range(len(s1)-1):\n",
    "        if s1[i+1] != s1[i]:\n",
    "            c += 1\n",
    "    return c "
   ]
  }
 ],
 "metadata": {
  "kernelspec": {
   "display_name": "Python 3",
   "language": "python",
   "name": "python3"
  },
  "language_info": {
   "codemirror_mode": {
    "name": "ipython",
    "version": 3
   },
   "file_extension": ".py",
   "mimetype": "text/x-python",
   "name": "python",
   "nbconvert_exporter": "python",
   "pygments_lexer": "ipython3",
   "version": "3.8.8"
  }
 },
 "nbformat": 4,
 "nbformat_minor": 5
}
